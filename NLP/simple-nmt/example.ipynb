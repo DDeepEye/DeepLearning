{
 "cells": [
  {
   "cell_type": "code",
   "execution_count": 157,
   "metadata": {},
   "outputs": [],
   "source": [
    "from simple_nmt.data_loader import DataLoader\n",
    "import simple_nmt.data_loader as data_loader\n",
    "\n",
    "\n",
    "loader = DataLoader(train_fn='./corpus/sampling.train'\n",
    "                    ,valid_fn='./corpus/sampling.valid'\n",
    "                    ,exts = ('en', 'ko')\n",
    "                    ,batch_size=256\n",
    "                    ,device=-1\n",
    "                    ,max_length=256\n",
    "                    ,dsl=False)\n"
   ]
  },
  {
   "cell_type": "code",
   "execution_count": 158,
   "metadata": {},
   "outputs": [
    {
     "name": "stdout",
     "output_type": "stream",
     "text": [
      "2454\n",
      "2650\n"
     ]
    }
   ],
   "source": [
    "print(len(loader.src.vocab))\n",
    "print(len(loader.tgt.vocab))"
   ]
  },
  {
   "cell_type": "code",
   "execution_count": 159,
   "metadata": {},
   "outputs": [
    {
     "name": "stdout",
     "output_type": "stream",
     "text": [
      "14000\n",
      "29579\n"
     ]
    }
   ],
   "source": [
    "import torch\n",
    "saved_data = torch.load('./2021.1004.TFM/Transformer.pth',map_location='cpu')\n",
    "src_vocab = saved_data['src_vocab']\n",
    "tgt_vocab = saved_data['tgt_vocab']\n",
    "print(len(src_vocab))\n",
    "print(len(tgt_vocab))"
   ]
  },
  {
   "cell_type": "code",
   "execution_count": 160,
   "metadata": {},
   "outputs": [],
   "source": [
    "# for batch in loader.train_iter:\n",
    "#     print(len(batch.src))\n",
    "#     x = batch.src[0]\n",
    "#     lengths = batch.src[1] \n",
    "#     print(lengths)\n",
    "#     y = batch.tgt[0]\n",
    "#     y = y[0,:]\n",
    "#     print(y)\n"
   ]
  },
  {
   "cell_type": "code",
   "execution_count": 161,
   "metadata": {},
   "outputs": [],
   "source": [
    "# for batch in loader.train_iter:\n",
    "#     print(len(batch.tgt))\n",
    "#     x = batch.tgt[0]\n",
    "#     lengths = batch.tgt[1]\n",
    "#     print(lengths)"
   ]
  },
  {
   "cell_type": "code",
   "execution_count": 162,
   "metadata": {},
   "outputs": [
    {
     "name": "stdout",
     "output_type": "stream",
     "text": [
      "['<unk>', '<pad>', '▁▁the', '▁,', '▁.', '▁▁of', '▁▁and', '▁▁to', '▁▁a', '▁▁in']\n",
      "['<unk>', '<pad>', '<BOS>', '<EOS>', '▁.', '▁이', '▁는', '▁을', '▁다', '▁에']\n"
     ]
    }
   ],
   "source": [
    "print(loader.src.vocab.itos[0:10])\n",
    "print(loader.tgt.vocab.itos[0:10])"
   ]
  },
  {
   "cell_type": "code",
   "execution_count": 163,
   "metadata": {},
   "outputs": [
    {
     "name": "stdout",
     "output_type": "stream",
     "text": [
      "tensor([[ 2.1019e-44,  0.0000e+00, -3.0779e+10,  4.5916e-41,  0.0000e+00],\n",
      "        [ 0.0000e+00,  0.0000e+00,  0.0000e+00,  0.0000e+00,  0.0000e+00],\n",
      "        [ 0.0000e+00,  0.0000e+00,  0.0000e+00,  0.0000e+00,  0.0000e+00],\n",
      "        [ 0.0000e+00,  0.0000e+00,  0.0000e+00,  0.0000e+00,  0.0000e+00],\n",
      "        [ 0.0000e+00,  0.0000e+00,  0.0000e+00,  0.0000e+00,  0.0000e+00]])\n"
     ]
    }
   ],
   "source": [
    "import torch\n",
    "\n",
    "f = torch.FloatTensor(5,5)\n",
    "f = f.cpu()\n",
    "\n",
    "print(f)\n"
   ]
  },
  {
   "cell_type": "code",
   "execution_count": 164,
   "metadata": {},
   "outputs": [
    {
     "data": {
      "text/plain": [
       "tensor([1., 1., 1., 1., 1., 1., 1., 1., 1., 1.])"
      ]
     },
     "execution_count": 164,
     "metadata": {},
     "output_type": "execute_result"
    }
   ],
   "source": [
    "torch.ones(10)"
   ]
  },
  {
   "cell_type": "code",
   "execution_count": 165,
   "metadata": {},
   "outputs": [
    {
     "name": "stdout",
     "output_type": "stream",
     "text": [
      "tensor([0.0022, 0.0059, 0.1182, 0.8737])\n",
      "tensor([-6.1350, -5.1350, -2.1350, -0.1350])\n",
      "tensor(1.)\n"
     ]
    }
   ],
   "source": [
    "x = torch.tensor([3,4.,7,9])\n",
    "sm = torch.nn.Softmax(dim=-1)\n",
    "lsm = torch.nn.LogSoftmax(dim=-1)\n",
    "print(sm(x))\n",
    "print(lsm(x))\n",
    "\n",
    "print(torch.exp(lsm(x)).sum())"
   ]
  },
  {
   "cell_type": "code",
   "execution_count": 166,
   "metadata": {},
   "outputs": [
    {
     "name": "stdout",
     "output_type": "stream",
     "text": [
      "[9]\n",
      "1\n"
     ]
    }
   ],
   "source": [
    "lr_decay_start = 10\n",
    "init_epoch = 9\n",
    "n_epochs = 10\n",
    "lr_step = 1\n",
    "m = [i for i in range(\n",
    "                max(0, lr_decay_start - 1),\n",
    "                n_epochs,\n",
    "                lr_step\n",
    "            )]\n",
    "print(m)\n",
    "print(len(m))"
   ]
  },
  {
   "cell_type": "code",
   "execution_count": 167,
   "metadata": {},
   "outputs": [
    {
     "name": "stdout",
     "output_type": "stream",
     "text": [
      "5\n",
      "['▁▁At ▁▁that ▁▁time ▁, ▁▁the ▁▁medical ▁▁st aff ▁▁of ▁▁B ▁▁h osp ital ▁▁dec ided ▁▁to ▁▁tr eat ▁▁with ▁▁p neum onia ▁▁through ▁▁high ▁- ▁res olution ▁▁comp uted ▁▁t om ography ▁▁of ▁▁the ▁▁ch est ▁, ▁▁b ut ▁▁A ▁▁w as ▁▁not ▁▁c ured ▁. \\n', '▁▁If ▁▁the ▁▁or dinance ▁▁g oes ▁▁in to ▁▁eff ect ▁, ▁▁the ▁▁Mayor ▁▁of ▁▁Seoul ▁▁can ▁▁res trict ▁▁the ▁▁operation ▁▁of ▁▁v ehic les ▁▁rated ▁▁f if th ▁- ▁grade ▁▁em issions ▁▁if ▁▁em ergency ▁▁r eduction ▁▁m easures ▁▁for ▁▁fine ▁▁d ust ▁▁are ▁▁issued ▁. \\n', '▁▁After ▁▁coll ecting ▁▁v arious ▁▁op in ions ▁▁through ▁▁disc ussion ▁▁s essions ▁▁and ▁▁o thers ▁, ▁▁Gwangju ▁▁M etropolitan ▁▁Government ▁▁will ▁▁come ▁▁up ▁▁with ▁▁m easures ▁▁to ▁▁prev ent ▁▁the ▁▁rec kless ▁▁construction ▁▁of ▁▁high ▁- ▁rise ▁▁apar tments ▁▁in ▁▁d ow n town ▁▁Gwangju ▁. \\n', \"▁▁S av ory ▁▁s o yb ean ▁▁n oodles ▁, ▁▁if ▁▁ever yone ▁' ▁s ▁▁up ▁▁for ▁▁it ▁, ▁▁let ▁' ▁s ▁▁go ▁. \\n\", '▁▁More ▁▁than ▁▁two ▁▁hours ▁▁after ▁▁taking ▁▁off ▁, ▁▁the ▁▁cap tain ▁▁of ▁▁the ▁▁private ▁▁pl ane ▁▁rec omm ended ▁▁the ▁▁m ov ie ▁▁Fr anc isco ▁▁for ▁▁the ▁▁v ideo ▁▁con tent ▁▁in ▁▁the ▁▁private ▁▁pl ane ▁▁through ▁▁the ▁▁in ▁- ▁flight ▁▁bro adc ast ▁. \\n']\n"
     ]
    }
   ],
   "source": [
    "\n",
    "with open('./corpus/10_sampling.test.en', 'rt', encoding='utf-8') as file:\n",
    "    lines = file.readlines()\n",
    "\n",
    "print(len(lines))\n",
    "print(lines)"
   ]
  },
  {
   "cell_type": "code",
   "execution_count": 168,
   "metadata": {},
   "outputs": [
    {
     "name": "stdout",
     "output_type": "stream",
     "text": [
      "tensor([0, 1, 2, 3, 4, 5, 6, 7, 8, 9])\n",
      "tensor([1, 1, 0, 1, 0, 1, 1, 1, 0, 1])\n",
      "tensor([3, 3, 2, 3, 4, 3, 3, 3, 8, 3])\n",
      "tensor([0, 0, 2, 0, 4, 0, 0, 0, 8, 0])\n"
     ]
    }
   ],
   "source": [
    "y = torch.LongTensor([i for i in range(10)])\n",
    "mask = y.new_ones(y.size())\n",
    "mask[2] = 0\n",
    "mask[8] = 0\n",
    "mask[4] = 0\n",
    "\n",
    "\n",
    "print(y)\n",
    "print(mask)\n",
    "\n",
    "y = y.masked_fill(mask, 3)\n",
    "print(y)\n",
    "\n",
    "\n",
    "y = y * torch.ne(y, 3)\n",
    "print(y)"
   ]
  },
  {
   "cell_type": "code",
   "execution_count": 169,
   "metadata": {},
   "outputs": [
    {
     "name": "stdout",
     "output_type": "stream",
     "text": [
      "[tensor([0., -inf, -inf, -inf, -inf])]\n",
      "tensor([0., -inf, -inf, -inf, -inf])\n"
     ]
    }
   ],
   "source": [
    "x = [torch.FloatTensor([.0] + [-float('inf')] * (5 - 1)).to('cpu')]\n",
    "print(x)\n",
    "\n",
    "xx = torch.FloatTensor([-float('inf')for i in range(5)])\n",
    "xx[0] = 0.\n",
    "print(xx)"
   ]
  },
  {
   "cell_type": "code",
   "execution_count": 170,
   "metadata": {},
   "outputs": [
    {
     "name": "stdout",
     "output_type": "stream",
     "text": [
      "[tensor([2, 2, 2, 2, 2], device='cuda:0')]\n",
      "tensor([[2],\n",
      "        [2],\n",
      "        [2],\n",
      "        [2],\n",
      "        [2]], device='cuda:0')\n"
     ]
    }
   ],
   "source": [
    "word_indice = [torch.LongTensor(5).zero_().to('cuda:0') + 2]\n",
    "print(word_indice)\n",
    "w = word_indice[-1].unsqueeze(-1)\n",
    "print(w)"
   ]
  },
  {
   "cell_type": "code",
   "execution_count": 171,
   "metadata": {},
   "outputs": [
    {
     "data": {
      "text/plain": [
       "tensor([1, 2, 3, 4, 0, 1])"
      ]
     },
     "execution_count": 171,
     "metadata": {},
     "output_type": "execute_result"
    }
   ],
   "source": [
    "indice = torch.tensor([1,2,3,4,5,6])\n",
    "indice.fmod(5)"
   ]
  },
  {
   "cell_type": "code",
   "execution_count": 172,
   "metadata": {},
   "outputs": [
    {
     "name": "stdout",
     "output_type": "stream",
     "text": [
      "tensor([-1.5560,  0.2767, -0.1799, -0.7652,  1.8761, -2.4373,  0.0737,  0.0861,\n",
      "         1.4300,  0.4911])\n",
      "LayerNorm((10,), eps=1e-05, elementwise_affine=True)\n",
      "tensor([-1.2200,  0.2851, -0.0899, -0.5706,  1.5987, -1.9439,  0.1184,  0.1286,\n",
      "         1.2323,  0.4612], grad_fn=<NativeLayerNormBackward>)\n"
     ]
    }
   ],
   "source": [
    "import torch.nn as nn\n",
    "\n",
    "input = torch.randn(10)\n",
    "print(input)\n",
    "m = nn.LayerNorm(input.size())\n",
    "print(m)\n",
    "\n",
    "y = (m(input))\n",
    "\n",
    "print(y)"
   ]
  },
  {
   "cell_type": "code",
   "execution_count": 173,
   "metadata": {},
   "outputs": [
    {
     "name": "stdout",
     "output_type": "stream",
     "text": [
      "tensor([[ 1.2872, -1.4523, -0.3353, -0.0000,  0.0000, -0.9075,  0.5510,  1.1226,\n",
      "         -0.9869,  0.5986],\n",
      "        [-1.1834, -0.0000, -0.0000,  0.0000,  0.0696,  2.2146,  0.7185,  1.4684,\n",
      "          1.2461,  1.2113],\n",
      "        [-1.4786,  0.0947,  0.1390, -0.4230,  0.2309, -0.7158, -0.4987,  0.0488,\n",
      "          0.2568, -0.6752],\n",
      "        [-0.8763,  2.9007, -2.4694,  0.4334, -1.2203,  0.0000,  0.8954, -0.0000,\n",
      "         -0.0000,  0.1734]])\n"
     ]
    }
   ],
   "source": [
    "m = nn.Dropout(p=0.2)\n",
    "input = torch.randn(4, 10)\n",
    "output = m(input)\n",
    "print(output)"
   ]
  },
  {
   "cell_type": "code",
   "execution_count": 174,
   "metadata": {},
   "outputs": [
    {
     "name": "stdout",
     "output_type": "stream",
     "text": [
      "tensor([[False,  True,  True,  True,  True,  True,  True,  True,  True,  True],\n",
      "        [False, False,  True,  True,  True,  True,  True,  True,  True,  True],\n",
      "        [False, False, False,  True,  True,  True,  True,  True,  True,  True],\n",
      "        [False, False, False, False,  True,  True,  True,  True,  True,  True]])\n"
     ]
    }
   ],
   "source": [
    "\n",
    "fm = torch.triu(input.new_ones(*input.size()), diagonal=1).bool()\n",
    "print(fm)"
   ]
  },
  {
   "cell_type": "code",
   "execution_count": 175,
   "metadata": {},
   "outputs": [
    {
     "data": {
      "text/plain": [
       "['', '2021.0930.TFM']"
      ]
     },
     "execution_count": 175,
     "metadata": {},
     "output_type": "execute_result"
    }
   ],
   "source": [
    "fns = '/2021.0930.TFM/Transformer.pth'.split('/')\n",
    "fns = fns[:-1]\n",
    "fns"
   ]
  },
  {
   "cell_type": "code",
   "execution_count": 176,
   "metadata": {},
   "outputs": [
    {
     "name": "stdout",
     "output_type": "stream",
     "text": [
      "1000\n",
      "999\n"
     ]
    }
   ],
   "source": [
    "d = {'loss':1000 , 'ppl':999}\n",
    "for key in d.keys():\n",
    "    print(d[key])\n",
    "    "
   ]
  },
  {
   "cell_type": "code",
   "execution_count": 177,
   "metadata": {},
   "outputs": [
    {
     "name": "stdout",
     "output_type": "stream",
     "text": [
      "torch.Size([1, 1, 2, 2])\n"
     ]
    }
   ],
   "source": [
    "z = torch.LongTensor(2,2,2)\n",
    "\n",
    "print(z[0:1].unsqueeze(0).shape)"
   ]
  },
  {
   "cell_type": "code",
   "execution_count": 178,
   "metadata": {},
   "outputs": [
    {
     "name": "stdout",
     "output_type": "stream",
     "text": [
      "torch.Size([512, 384])\n",
      "tensor(0.0101)\n",
      "torch.Size([1, 384])\n",
      "tensor([1.0000, 1.0121, 1.0243, 1.0366, 1.0491, 1.0618, 1.0746, 1.0876, 1.1007,\n",
      "        1.1140])\n"
     ]
    }
   ],
   "source": [
    "pos = torch.arange(0, 512).unsqueeze(-1).float()\n",
    "dim = torch.arange(0, 768 // 2).unsqueeze(0).float()\n",
    "dim = (1e+4**dim.div(float(768)))\n",
    "pos = pos / dim\n",
    "print(pos.shape)\n",
    "print(pos[1,-1])\n",
    "\n",
    "print(dim.shape)\n",
    "print(dim[0,:10])\n"
   ]
  },
  {
   "cell_type": "code",
   "execution_count": 179,
   "metadata": {},
   "outputs": [
    {
     "name": "stdout",
     "output_type": "stream",
     "text": [
      "tensor([0.0951, 0.0951, 0.0951, 0.0951, 0.0951, 0.0577, 0.0577, 0.1569, 0.1569,\n",
      "        0.0951])\n",
      "tensor([-2.3524, -2.3524, -2.3524, -2.3524, -2.3524, -2.8524, -2.8524, -1.8524,\n",
      "        -1.8524, -2.3524])\n",
      "tensor([[-2.3524, -2.3524, -2.3524, -2.3524, -2.3524, -2.8524, -2.8524, -1.8524,\n",
      "         -1.8524, -2.3524]])\n",
      "tensor([1.8524])\n"
     ]
    }
   ],
   "source": [
    "x = torch.Tensor([1,1,1,1,1,0.5,0.5,1.5,1.5,1])\n",
    "sm = torch.nn.Softmax(dim=-1)\n",
    "print(sm(x))\n",
    "lsm = torch.nn.LogSoftmax(dim=-1)\n",
    "x = lsm(x)\n",
    "print(x)\n",
    "x = x.view(1,-1)\n",
    "\n",
    "print(x)\n",
    "y = torch.LongTensor([7])\n",
    "l = torch.nn.functional.nll_loss(x,y,reduction='none')\n",
    "print(l)\n"
   ]
  },
  {
   "cell_type": "code",
   "execution_count": 180,
   "metadata": {},
   "outputs": [
    {
     "name": "stdout",
     "output_type": "stream",
     "text": [
      "200\n",
      "250\n"
     ]
    }
   ],
   "source": [
    "flag = False\n",
    "x, y = (100, 150) if flag else (200, 250)\n",
    "print(x)\n",
    "print(y)"
   ]
  },
  {
   "cell_type": "code",
   "execution_count": 181,
   "metadata": {},
   "outputs": [
    {
     "name": "stdout",
     "output_type": "stream",
     "text": [
      "{'a': 10, 'b': 20, 'c': 30, 'd': 40, 'e': 80}\n"
     ]
    }
   ],
   "source": [
    "import pprint\n",
    "class Args():\n",
    "    def __init__(self):\n",
    "        self.a = 10\n",
    "        self.b = 20\n",
    "        self.c = 30\n",
    "        self.d = 40\n",
    "        self.e = 80\n",
    "\n",
    "arg = Args()\n",
    "pp = pprint.PrettyPrinter(indent=4)\n",
    "pp.pprint(vars(arg))\n",
    "\n"
   ]
  },
  {
   "cell_type": "code",
   "execution_count": 182,
   "metadata": {},
   "outputs": [
    {
     "name": "stdout",
     "output_type": "stream",
     "text": [
      "torch.Size([2, 2, 3])\n",
      "torch.Size([2, 2])\n",
      "tensor(-0.9500)\n"
     ]
    }
   ],
   "source": [
    "crit = torch.nn.NLLLoss(reduction='sum')\n",
    "\n",
    "x = torch.FloatTensor([\n",
    "                        [\n",
    "                            [0.1, 0.2, 0.5]\n",
    "                           ,[0.3, 0.4, 0.8]\n",
    "                        ]\n",
    "                        ,\n",
    "                        [\n",
    "                            [0.1, 0.2, 0.5]\n",
    "                           ,[0.3, 0.4, 0.8]\n",
    "                        ]\n",
    "                      ])\n",
    "print(x.shape)\n",
    "y = torch.LongTensor([\n",
    "                 [0,2]\n",
    "                ,[1,2]\n",
    "                ])\n",
    "print(y.shape)\n",
    "\n",
    "loss = crit(x.contiguous().view(-1,3),y.contiguous().view(-1)).div(x.size(0))\n",
    "print(loss)"
   ]
  }
 ],
 "metadata": {
  "interpreter": {
   "hash": "82d4c984031c603b374ab939aa5a7b22659a3506d5660439d117473523105adb"
  },
  "kernelspec": {
   "display_name": "Python 3.7.11 64-bit ('p37_nlp': conda)",
   "name": "python3"
  },
  "language_info": {
   "codemirror_mode": {
    "name": "ipython",
    "version": 3
   },
   "file_extension": ".py",
   "mimetype": "text/x-python",
   "name": "python",
   "nbconvert_exporter": "python",
   "pygments_lexer": "ipython3",
   "version": "3.7.11"
  },
  "orig_nbformat": 4
 },
 "nbformat": 4,
 "nbformat_minor": 2
}
