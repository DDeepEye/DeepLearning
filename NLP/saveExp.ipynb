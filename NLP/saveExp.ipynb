{
 "cells": [
  {
   "cell_type": "code",
   "execution_count": 16,
   "source": [
    "from train import NLPArgument\r\n",
    "import torch"
   ],
   "outputs": [],
   "metadata": {}
  },
  {
   "cell_type": "code",
   "execution_count": 17,
   "source": [
    "arg = NLPArgument(model_filepath='Data/Models/argument',\r\n",
    "                    train_filepath='Data/review.sorted.uniq.refined.tsv',\r\n",
    "                    gpu_id=0 ,\r\n",
    "                    batch_size=512 ,\r\n",
    "                    use_rnn=False, \r\n",
    "                    use_cnn=True, \r\n",
    "                    window_sizes=[3,4,5,6,7,8], \r\n",
    "                    filter_sizes=[128,128,128,128,128,128])"
   ],
   "outputs": [],
   "metadata": {}
  },
  {
   "cell_type": "code",
   "execution_count": 18,
   "source": [
    "torch.save({'config':arg}, arg.model_filepath)"
   ],
   "outputs": [],
   "metadata": {}
  },
  {
   "cell_type": "code",
   "execution_count": 19,
   "source": [
    "data = torch.load(arg.model_filepath)\r\n",
    "argument = data['config']\r\n",
    "print(dir(argument))"
   ],
   "outputs": [
    {
     "output_type": "stream",
     "name": "stdout",
     "text": [
      "['__class__', '__delattr__', '__dict__', '__dir__', '__doc__', '__eq__', '__format__', '__ge__', '__getattribute__', '__gt__', '__hash__', '__init__', '__init_subclass__', '__le__', '__lt__', '__module__', '__ne__', '__new__', '__reduce__', '__reduce_ex__', '__repr__', '__setattr__', '__sizeof__', '__slotnames__', '__str__', '__subclasshook__', '__weakref__', 'batch_size', 'dropout', 'epochs', 'filter_sizes', 'gpu_id', 'hidden_size', 'layer_number', 'max_length', 'max_vocab_size', 'min_vocab_freq', 'model_filepath', 'train_filepath', 'use_batch_norm', 'use_cnn', 'use_rnn', 'window_sizes', 'word_vec_size']\n"
     ]
    }
   ],
   "metadata": {}
  }
 ],
 "metadata": {
  "orig_nbformat": 4,
  "language_info": {
   "name": "python",
   "version": "3.7.11",
   "mimetype": "text/x-python",
   "codemirror_mode": {
    "name": "ipython",
    "version": 3
   },
   "pygments_lexer": "ipython3",
   "nbconvert_exporter": "python",
   "file_extension": ".py"
  },
  "kernelspec": {
   "name": "python3",
   "display_name": "Python 3.7.11 64-bit (system)"
  },
  "interpreter": {
   "hash": "82d4c984031c603b374ab939aa5a7b22659a3506d5660439d117473523105adb"
  }
 },
 "nbformat": 4,
 "nbformat_minor": 2
}