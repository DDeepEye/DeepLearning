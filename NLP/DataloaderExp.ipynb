{
 "cells": [
  {
   "cell_type": "code",
   "execution_count": 7,
   "source": [
    "from Utilitis.data_loader import DataLoader"
   ],
   "outputs": [],
   "metadata": {}
  },
  {
   "cell_type": "code",
   "execution_count": 8,
   "source": [
    "loaders = DataLoader(\r\n",
    "    train_fn='./Data/review.sorted.uniq.refined.tsv',\r\n",
    "    batch_size=256,\r\n",
    "    min_freq=5,\r\n",
    "    max_vocab=999999,\r\n",
    "    device=0\r\n",
    ")\r\n",
    "print(loaders.train_loader)\r\n",
    "print(len(loaders.train_loader))\r\n",
    "print(loaders.valid_loader)\r\n",
    "print(len(loaders.valid_loader))\r\n"
   ],
   "outputs": [
    {
     "output_type": "stream",
     "name": "stdout",
     "text": [
      "<torchtext.legacy.data.iterator.BucketIterator object at 0x00000204BF072D48>\n",
      "946\n",
      "<torchtext.legacy.data.iterator.BucketIterator object at 0x000002054637B488>\n",
      "237\n"
     ]
    }
   ],
   "metadata": {}
  },
  {
   "cell_type": "code",
   "execution_count": 9,
   "source": [
    "for index, mini_batch in enumerate(loaders.train_loader):\r\n",
    "    print('index {}'.format(index))\r\n",
    "    print(mini_batch)\r\n",
    "    print(len(mini_batch))\r\n",
    "    print(mini_batch.text[:,:256].shape)\r\n",
    "    print(mini_batch.label.shape)\r\n",
    "\r\n",
    "    print(mini_batch.text[0,:])\r\n",
    "    break\r\n",
    "\r\n",
    "\r\n",
    "    "
   ],
   "outputs": [
    {
     "output_type": "stream",
     "name": "stdout",
     "text": [
      "index 0\n",
      "\n",
      "[torchtext.legacy.data.batch.Batch of size 256]\n",
      "\t[.label]:[torch.cuda.LongTensor of size 256 (GPU 0)]\n",
      "\t[.text]:[torch.cuda.LongTensor of size 256x10 (GPU 0)]\n",
      "256\n",
      "torch.Size([256, 10])\n",
      "torch.Size([256])\n",
      "tensor([ 6984,  3693,  3238,   659,     2,     0, 36041,  2252,     0,    77],\n",
      "       device='cuda:0')\n"
     ]
    }
   ],
   "metadata": {}
  },
  {
   "cell_type": "code",
   "execution_count": 10,
   "source": [
    "print(len(loaders.train_loader.dataset))\r\n",
    "print(len(loaders.valid_loader.dataset))"
   ],
   "outputs": [
    {
     "output_type": "stream",
     "name": "stdout",
     "text": [
      "242142\n",
      "60536\n"
     ]
    }
   ],
   "metadata": {}
  },
  {
   "cell_type": "code",
   "execution_count": 11,
   "source": [
    "print(type(loaders.train_loader.dataset))\r\n",
    "print(dir(loaders.train_loader.dataset))"
   ],
   "outputs": [
    {
     "output_type": "stream",
     "name": "stdout",
     "text": [
      "<class 'torchtext.legacy.data.dataset.Dataset'>\n",
      "['__add__', '__class__', '__class_getitem__', '__delattr__', '__dict__', '__dir__', '__doc__', '__eq__', '__format__', '__ge__', '__getattr__', '__getattribute__', '__getitem__', '__gt__', '__hash__', '__init__', '__init_subclass__', '__iter__', '__le__', '__len__', '__lt__', '__module__', '__ne__', '__new__', '__orig_bases__', '__parameters__', '__reduce__', '__reduce_ex__', '__repr__', '__setattr__', '__sizeof__', '__slots__', '__str__', '__subclasshook__', '__weakref__', 'download', 'examples', 'fields', 'filter_examples', 'sort_key', 'split', 'splits']\n"
     ]
    }
   ],
   "metadata": {}
  },
  {
   "cell_type": "code",
   "execution_count": 12,
   "source": [
    "print(len(loaders.text.vocab))\r\n",
    "print(len(loaders.label.vocab))"
   ],
   "outputs": [
    {
     "output_type": "stream",
     "name": "stdout",
     "text": [
      "47686\n",
      "2\n"
     ]
    }
   ],
   "metadata": {}
  }
 ],
 "metadata": {
  "language_info": {
   "name": "python",
   "version": "3.7.11",
   "mimetype": "text/x-python",
   "codemirror_mode": {
    "name": "ipython",
    "version": 3
   },
   "pygments_lexer": "ipython3",
   "nbconvert_exporter": "python",
   "file_extension": ".py"
  },
  "kernelspec": {
   "name": "python3",
   "display_name": "Python 3.7.11 64-bit (system)"
  },
  "interpreter": {
   "hash": "a438d6d7c28a3e858666ee16818411b92bb71f1daaa558d0dd7d40a0f0ac2df7"
  }
 },
 "nbformat": 4,
 "nbformat_minor": 5
}